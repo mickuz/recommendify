{
 "cells": [
  {
   "cell_type": "markdown",
   "metadata": {},
   "source": [
    "# Modelling"
   ]
  },
  {
   "cell_type": "code",
   "execution_count": 1,
   "metadata": {},
   "outputs": [
    {
     "name": "stdout",
     "output_type": "stream",
     "text": [
      "/mnt/d/Projekty/spotify-recommender-system\n"
     ]
    }
   ],
   "source": [
    "cd .."
   ]
  },
  {
   "cell_type": "code",
   "execution_count": 2,
   "metadata": {},
   "outputs": [],
   "source": [
    "import pandas as pd\n",
    "import matplotlib.pyplot as plt\n",
    "\n",
    "from xgboost import XGBClassifier\n",
    "\n",
    "from sklearn.linear_model import LogisticRegression\n",
    "from sklearn.ensemble import RandomForestClassifier\n",
    "\n",
    "from sklearn.metrics import accuracy_score, f1_score\n",
    "from sklearn.model_selection import cross_val_score, KFold\n",
    "\n",
    "from hyperopt import hp, tpe, fmin, space_eval, Trials, STATUS_OK\n",
    "\n",
    "import warnings\n",
    "\n",
    "SEED = 11\n",
    "warnings.filterwarnings('ignore')"
   ]
  },
  {
   "cell_type": "code",
   "execution_count": 3,
   "metadata": {},
   "outputs": [
    {
     "data": {
      "text/html": [
       "<div>\n",
       "<style scoped>\n",
       "    .dataframe tbody tr th:only-of-type {\n",
       "        vertical-align: middle;\n",
       "    }\n",
       "\n",
       "    .dataframe tbody tr th {\n",
       "        vertical-align: top;\n",
       "    }\n",
       "\n",
       "    .dataframe thead th {\n",
       "        text-align: right;\n",
       "    }\n",
       "</style>\n",
       "<table border=\"1\" class=\"dataframe\">\n",
       "  <thead>\n",
       "    <tr style=\"text-align: right;\">\n",
       "      <th></th>\n",
       "      <th>acousticness</th>\n",
       "      <th>danceability</th>\n",
       "      <th>energy</th>\n",
       "      <th>if_liked</th>\n",
       "      <th>instrumentalness</th>\n",
       "      <th>liveness</th>\n",
       "      <th>loudness</th>\n",
       "      <th>mode</th>\n",
       "      <th>speechiness</th>\n",
       "      <th>tempo</th>\n",
       "      <th>...</th>\n",
       "      <th>key_5</th>\n",
       "      <th>key_6</th>\n",
       "      <th>key_7</th>\n",
       "      <th>key_8</th>\n",
       "      <th>key_9</th>\n",
       "      <th>key_10</th>\n",
       "      <th>key_11</th>\n",
       "      <th>time_signature_3</th>\n",
       "      <th>time_signature_4</th>\n",
       "      <th>time_signature_5</th>\n",
       "    </tr>\n",
       "  </thead>\n",
       "  <tbody>\n",
       "    <tr>\n",
       "      <th>Shame Of Device</th>\n",
       "      <td>0.000336</td>\n",
       "      <td>0.652</td>\n",
       "      <td>0.638</td>\n",
       "      <td>1</td>\n",
       "      <td>0.9450</td>\n",
       "      <td>0.0839</td>\n",
       "      <td>0.380867</td>\n",
       "      <td>1</td>\n",
       "      <td>0.0277</td>\n",
       "      <td>0.758141</td>\n",
       "      <td>...</td>\n",
       "      <td>0</td>\n",
       "      <td>0</td>\n",
       "      <td>1</td>\n",
       "      <td>0</td>\n",
       "      <td>0</td>\n",
       "      <td>0</td>\n",
       "      <td>0</td>\n",
       "      <td>0</td>\n",
       "      <td>1</td>\n",
       "      <td>0</td>\n",
       "    </tr>\n",
       "    <tr>\n",
       "      <th>Annie</th>\n",
       "      <td>0.003700</td>\n",
       "      <td>0.603</td>\n",
       "      <td>0.504</td>\n",
       "      <td>0</td>\n",
       "      <td>0.0383</td>\n",
       "      <td>0.1040</td>\n",
       "      <td>-0.003722</td>\n",
       "      <td>1</td>\n",
       "      <td>0.0289</td>\n",
       "      <td>-0.008774</td>\n",
       "      <td>...</td>\n",
       "      <td>0</td>\n",
       "      <td>1</td>\n",
       "      <td>0</td>\n",
       "      <td>0</td>\n",
       "      <td>0</td>\n",
       "      <td>0</td>\n",
       "      <td>0</td>\n",
       "      <td>0</td>\n",
       "      <td>1</td>\n",
       "      <td>0</td>\n",
       "    </tr>\n",
       "    <tr>\n",
       "      <th>The Crown and the Ring (Lament of the Kings)</th>\n",
       "      <td>0.492000</td>\n",
       "      <td>0.228</td>\n",
       "      <td>0.130</td>\n",
       "      <td>0</td>\n",
       "      <td>0.0000</td>\n",
       "      <td>0.1840</td>\n",
       "      <td>-1.726194</td>\n",
       "      <td>0</td>\n",
       "      <td>0.0326</td>\n",
       "      <td>-1.160017</td>\n",
       "      <td>...</td>\n",
       "      <td>0</td>\n",
       "      <td>0</td>\n",
       "      <td>0</td>\n",
       "      <td>0</td>\n",
       "      <td>0</td>\n",
       "      <td>0</td>\n",
       "      <td>0</td>\n",
       "      <td>1</td>\n",
       "      <td>0</td>\n",
       "      <td>0</td>\n",
       "    </tr>\n",
       "    <tr>\n",
       "      <th>I'm On Fire</th>\n",
       "      <td>0.589000</td>\n",
       "      <td>0.620</td>\n",
       "      <td>0.446</td>\n",
       "      <td>0</td>\n",
       "      <td>0.0299</td>\n",
       "      <td>0.0727</td>\n",
       "      <td>-1.660753</td>\n",
       "      <td>0</td>\n",
       "      <td>0.0347</td>\n",
       "      <td>-1.423080</td>\n",
       "      <td>...</td>\n",
       "      <td>0</td>\n",
       "      <td>0</td>\n",
       "      <td>0</td>\n",
       "      <td>0</td>\n",
       "      <td>0</td>\n",
       "      <td>0</td>\n",
       "      <td>0</td>\n",
       "      <td>0</td>\n",
       "      <td>1</td>\n",
       "      <td>0</td>\n",
       "    </tr>\n",
       "    <tr>\n",
       "      <th>March of the Forest Cat</th>\n",
       "      <td>0.429000</td>\n",
       "      <td>0.864</td>\n",
       "      <td>0.582</td>\n",
       "      <td>1</td>\n",
       "      <td>0.9010</td>\n",
       "      <td>0.0998</td>\n",
       "      <td>-0.642018</td>\n",
       "      <td>1</td>\n",
       "      <td>0.1990</td>\n",
       "      <td>0.080243</td>\n",
       "      <td>...</td>\n",
       "      <td>0</td>\n",
       "      <td>0</td>\n",
       "      <td>0</td>\n",
       "      <td>1</td>\n",
       "      <td>0</td>\n",
       "      <td>0</td>\n",
       "      <td>0</td>\n",
       "      <td>0</td>\n",
       "      <td>1</td>\n",
       "      <td>0</td>\n",
       "    </tr>\n",
       "  </tbody>\n",
       "</table>\n",
       "<p>5 rows × 29 columns</p>\n",
       "</div>"
      ],
      "text/plain": [
       "                                              acousticness  danceability  \\\n",
       "Shame Of Device                                   0.000336         0.652   \n",
       "Annie                                             0.003700         0.603   \n",
       "The Crown and the Ring (Lament of the Kings)      0.492000         0.228   \n",
       "I'm On Fire                                       0.589000         0.620   \n",
       "March of the Forest Cat                           0.429000         0.864   \n",
       "\n",
       "                                              energy  if_liked  \\\n",
       "Shame Of Device                                0.638         1   \n",
       "Annie                                          0.504         0   \n",
       "The Crown and the Ring (Lament of the Kings)   0.130         0   \n",
       "I'm On Fire                                    0.446         0   \n",
       "March of the Forest Cat                        0.582         1   \n",
       "\n",
       "                                              instrumentalness  liveness  \\\n",
       "Shame Of Device                                         0.9450    0.0839   \n",
       "Annie                                                   0.0383    0.1040   \n",
       "The Crown and the Ring (Lament of the Kings)            0.0000    0.1840   \n",
       "I'm On Fire                                             0.0299    0.0727   \n",
       "March of the Forest Cat                                 0.9010    0.0998   \n",
       "\n",
       "                                              loudness  mode  speechiness  \\\n",
       "Shame Of Device                               0.380867     1       0.0277   \n",
       "Annie                                        -0.003722     1       0.0289   \n",
       "The Crown and the Ring (Lament of the Kings) -1.726194     0       0.0326   \n",
       "I'm On Fire                                  -1.660753     0       0.0347   \n",
       "March of the Forest Cat                      -0.642018     1       0.1990   \n",
       "\n",
       "                                                 tempo  ...  key_5  key_6  \\\n",
       "Shame Of Device                               0.758141  ...      0      0   \n",
       "Annie                                        -0.008774  ...      0      1   \n",
       "The Crown and the Ring (Lament of the Kings) -1.160017  ...      0      0   \n",
       "I'm On Fire                                  -1.423080  ...      0      0   \n",
       "March of the Forest Cat                       0.080243  ...      0      0   \n",
       "\n",
       "                                              key_7  key_8  key_9  key_10  \\\n",
       "Shame Of Device                                   1      0      0       0   \n",
       "Annie                                             0      0      0       0   \n",
       "The Crown and the Ring (Lament of the Kings)      0      0      0       0   \n",
       "I'm On Fire                                       0      0      0       0   \n",
       "March of the Forest Cat                           0      1      0       0   \n",
       "\n",
       "                                              key_11  time_signature_3  \\\n",
       "Shame Of Device                                    0                 0   \n",
       "Annie                                              0                 0   \n",
       "The Crown and the Ring (Lament of the Kings)       0                 1   \n",
       "I'm On Fire                                        0                 0   \n",
       "March of the Forest Cat                            0                 0   \n",
       "\n",
       "                                              time_signature_4  \\\n",
       "Shame Of Device                                              1   \n",
       "Annie                                                        1   \n",
       "The Crown and the Ring (Lament of the Kings)                 0   \n",
       "I'm On Fire                                                  1   \n",
       "March of the Forest Cat                                      1   \n",
       "\n",
       "                                              time_signature_5  \n",
       "Shame Of Device                                              0  \n",
       "Annie                                                        0  \n",
       "The Crown and the Ring (Lament of the Kings)                 0  \n",
       "I'm On Fire                                                  0  \n",
       "March of the Forest Cat                                      0  \n",
       "\n",
       "[5 rows x 29 columns]"
      ]
     },
     "execution_count": 3,
     "metadata": {},
     "output_type": "execute_result"
    }
   ],
   "source": [
    "df_train = pd.read_pickle('./data/processed/songs_train.pkl')\n",
    "df_train.head()"
   ]
  },
  {
   "cell_type": "code",
   "execution_count": 4,
   "metadata": {},
   "outputs": [],
   "source": [
    "X_train, y_train = df_train.drop(['if_liked'], axis=1), df_train['if_liked']"
   ]
  },
  {
   "cell_type": "code",
   "execution_count": 5,
   "metadata": {},
   "outputs": [],
   "source": [
    "def objective(params):    \n",
    "    classifier_name = params['classifier']\n",
    "    del params['classifier']\n",
    "    \n",
    "    if classifier_name == 'lr':\n",
    "        clf = LogisticRegression(**params,\n",
    "                                 random_state=SEED)\n",
    "    elif classifier_name == 'rf':\n",
    "        clf = RandomForestClassifier(**params,\n",
    "                                     oob_score=True,\n",
    "                                     random_state=SEED)\n",
    "    elif classifier_name == 'xgb':\n",
    "        clf = XGBClassifier(**params,\n",
    "                            eval_metric='logloss',\n",
    "                            use_label_encoder=False,\n",
    "                            random_state=SEED)\n",
    "    else:\n",
    "        print('Wrong classifier!')\n",
    "        return\n",
    "    \n",
    "    scores = cross_val_score(clf, X_train, y_train, cv=5, scoring='f1')\n",
    "    loss = 1 - max(scores)\n",
    "    \n",
    "    return {'loss': loss, 'params': params, 'status': STATUS_OK}"
   ]
  },
  {
   "cell_type": "markdown",
   "metadata": {},
   "source": [
    "## Logistic Regression\n",
    "Hyperparameters to be tuned:\n",
    "- **C** &ndash; regularization parameter controlling a trade-off between underfitting and overfitting of the model\n",
    "- **warm_start** &ndash; parameter declaring usage of previous solution as an initialization for the following fit\n",
    "- **fit_intercept** &ndash; specifies if the constant is added to the function\n",
    "- **max_iter** &ndash; maximum number of iteration for the algorithm to converge\n",
    "- **solver** &ndash; algorithm used for problem optimization"
   ]
  },
  {
   "cell_type": "code",
   "execution_count": 6,
   "metadata": {},
   "outputs": [],
   "source": [
    "lr_params = {'classifier': 'lr',\n",
    "             'C': hp.uniform('C', 0, 20),\n",
    "             'warm_start': hp.choice('warm_start', [True, False]),\n",
    "             'fit_intercept': hp.choice('fit_intercept', [True, False]),\n",
    "             'max_iter': hp.choice('max_iter', range(5, 1000)),\n",
    "             'solver': hp.choice('solver', ['newton-cg', 'lbfgs', 'liblinear', 'sag', 'saga'])}"
   ]
  },
  {
   "cell_type": "code",
   "execution_count": 7,
   "metadata": {},
   "outputs": [
    {
     "name": "stdout",
     "output_type": "stream",
     "text": [
      "100%|██████████| 50/50 [00:18<00:00,  2.64trial/s, best loss: 0.21577726218097437]\n"
     ]
    },
    {
     "data": {
      "text/plain": [
       "{'C': 0.12590803224234115,\n",
       " 'classifier': 'lr',\n",
       " 'fit_intercept': False,\n",
       " 'max_iter': 67,\n",
       " 'solver': 'liblinear',\n",
       " 'warm_start': True}"
      ]
     },
     "execution_count": 7,
     "metadata": {},
     "output_type": "execute_result"
    }
   ],
   "source": [
    "bayes_trials = Trials()\n",
    "best = fmin(fn=objective, space=lr_params, algo=tpe.suggest, max_evals=50, trials=bayes_trials)\n",
    "best = space_eval(lr_params, bayes_trials.argmin)\n",
    "best"
   ]
  },
  {
   "cell_type": "code",
   "execution_count": 8,
   "metadata": {},
   "outputs": [],
   "source": [
    "lr_tuned = LogisticRegression(C=best['C'],\n",
    "                              solver=best['solver'],\n",
    "                              max_iter=best['max_iter'],\n",
    "                              fit_intercept=best['fit_intercept'],\n",
    "                              warm_start=best['warm_start'],\n",
    "                              random_state=SEED)"
   ]
  },
  {
   "cell_type": "markdown",
   "metadata": {},
   "source": [
    "## Random Forest\n",
    "Hyperparameters to be tuned:\n",
    "- **criterion** &ndash; a function measuring the quality of a split, *gini* uses the Gini impurity while *entropy* makes the split based on information gain\n",
    "- **n_estimators** &ndash; number of decision trees in the ensemble model\n",
    "- **max_depth** &ndash; specifies the maximum depth of decision trees, the deeper a tree, the more complex a model will become\n",
    "- **min_samples_split** &ndash; the minimum number of samples required to split an internal node\n",
    "- **min_samples_leaf** &ndash; the minimum number of samples required to be at a leaf node"
   ]
  },
  {
   "cell_type": "code",
   "execution_count": 9,
   "metadata": {},
   "outputs": [],
   "source": [
    "rf_params = {'classifier': 'rf',\n",
    "             'criterion': hp.choice('criterion', ['gini', 'entropy']),\n",
    "             'n_estimators': hp.choice('n_estimators', range(100, 2100, 100)),\n",
    "             'max_depth': hp.choice('max_depth', range(5, 16)),\n",
    "             'min_samples_split': hp.choice('min_samples_split', range(5, 11)),\n",
    "             'min_samples_leaf': hp.choice('min_samples_leaf', range(3, 6))}"
   ]
  },
  {
   "cell_type": "code",
   "execution_count": 10,
   "metadata": {},
   "outputs": [
    {
     "name": "stdout",
     "output_type": "stream",
     "text": [
      "100%|██████████| 50/50 [10:09<00:00, 12.20s/trial, best loss: 0.19506172839506175]\n"
     ]
    },
    {
     "data": {
      "text/plain": [
       "{'classifier': 'rf',\n",
       " 'criterion': 'entropy',\n",
       " 'max_depth': 10,\n",
       " 'min_samples_leaf': 3,\n",
       " 'min_samples_split': 10,\n",
       " 'n_estimators': 700}"
      ]
     },
     "execution_count": 10,
     "metadata": {},
     "output_type": "execute_result"
    }
   ],
   "source": [
    "bayes_trials = Trials()\n",
    "best = fmin(fn=objective, space=rf_params, algo=tpe.suggest, max_evals=50, trials=bayes_trials)\n",
    "best = space_eval(rf_params, bayes_trials.argmin)\n",
    "best"
   ]
  },
  {
   "cell_type": "code",
   "execution_count": 11,
   "metadata": {},
   "outputs": [],
   "source": [
    "rf_tuned = RandomForestClassifier(criterion=best['criterion'],\n",
    "                                  max_depth=best['max_depth'],\n",
    "                                  min_samples_leaf=best['min_samples_leaf'],\n",
    "                                  min_samples_split=best['min_samples_split'],\n",
    "                                  n_estimators=best['n_estimators'],\n",
    "                                  oob_score=True,\n",
    "                                  random_state=SEED)"
   ]
  },
  {
   "cell_type": "markdown",
   "metadata": {},
   "source": [
    "## Extreme Gradient Boosting\n",
    "Hyperparameters to be tuned:\n",
    "- **learning_rate** &ndash; specifies the shrinkage of the feature weights made in every training step\n",
    "- **n_estimators** &ndash; number of decision trees in the ensemble model\n",
    "- **gamma** &ndash; the minimum loss reduction required to make a further partition on a leaf node of the tree\n",
    "- **max_depth** &ndash; specifies the maximum depth of decision trees, the deeper a tree, the more complex a model will become\n",
    "- **min_child_weight** &ndash; the minimum sum of instance weight needed in a child\n",
    "- **subsample** &ndash; subsample ratio of the training instances, it prevents overfitting of a model"
   ]
  },
  {
   "cell_type": "code",
   "execution_count": 12,
   "metadata": {},
   "outputs": [],
   "source": [
    "xgb_params = {'classifier': 'xgb',\n",
    "              'learning_rate': hp.uniform('learning_rate', 0, 0.5),\n",
    "              'n_estimators': hp.choice('n_estimators', range(100, 2100, 100)),\n",
    "              'gamma': hp.choice('gamma', range(0, 6)),\n",
    "              'max_depth': hp.choice('max_depth', range(5, 16)),\n",
    "              'min_child_weight': hp.choice('min_child_weight', range(1, 6)),\n",
    "              'subsample': hp.uniform('subsample', 0.5, 1)}"
   ]
  },
  {
   "cell_type": "code",
   "execution_count": 13,
   "metadata": {},
   "outputs": [
    {
     "name": "stdout",
     "output_type": "stream",
     "text": [
      "100%|██████████| 50/50 [07:14<00:00,  8.69s/trial, best loss: 0.1959798994974874]\n"
     ]
    },
    {
     "data": {
      "text/plain": [
       "{'classifier': 'xgb',\n",
       " 'gamma': 5,\n",
       " 'learning_rate': 0.12468147655917994,\n",
       " 'max_depth': 7,\n",
       " 'min_child_weight': 1,\n",
       " 'n_estimators': 800,\n",
       " 'subsample': 0.6966716089145932}"
      ]
     },
     "execution_count": 13,
     "metadata": {},
     "output_type": "execute_result"
    }
   ],
   "source": [
    "bayes_trials = Trials()\n",
    "best = fmin(fn=objective, space=xgb_params, algo=tpe.suggest, max_evals=50, trials=bayes_trials)\n",
    "best = space_eval(xgb_params, bayes_trials.argmin)\n",
    "best"
   ]
  },
  {
   "cell_type": "code",
   "execution_count": 14,
   "metadata": {},
   "outputs": [],
   "source": [
    "xgb_tuned = XGBClassifier(gamma=best['gamma'],\n",
    "                          max_depth=best['max_depth'],\n",
    "                          n_estimators=best['n_estimators'],\n",
    "                          min_child_weight=best['min_child_weight'],\n",
    "                          learning_rate=best['learning_rate'],\n",
    "                          subsample=best['subsample'],\n",
    "                          eval_metric='logloss',\n",
    "                          use_label_encoder=False,\n",
    "                          random_state=SEED)"
   ]
  },
  {
   "cell_type": "markdown",
   "metadata": {},
   "source": [
    "## Comparison of algorithms"
   ]
  },
  {
   "cell_type": "code",
   "execution_count": 15,
   "metadata": {},
   "outputs": [
    {
     "name": "stdout",
     "output_type": "stream",
     "text": [
      "Logistic Regression: 0.7567934050774665 (0.041188592439545854)\n",
      "Random Forest: 0.7861410273451004 (0.03223132839453992)\n",
      "XGBoost: 0.7749615059774024 (0.02530108997441962)\n"
     ]
    }
   ],
   "source": [
    "models = []\n",
    "models.append(('Logistic Regression', lr_tuned))\n",
    "models.append(('Random Forest', rf_tuned))\n",
    "models.append(('XGBoost', xgb_tuned))\n",
    "\n",
    "results = []\n",
    "names = []\n",
    "\n",
    "for name, model in models:\n",
    "    kfold = KFold(n_splits=10, shuffle=True, random_state=SEED)\n",
    "    cv_results = cross_val_score(model, X_train, y_train, cv=kfold, scoring='f1') \n",
    "    \n",
    "    results.append(cv_results)\n",
    "    names.append(name)\n",
    "    \n",
    "    print(f\"{name}: {cv_results.mean()} ({cv_results.std()})\")"
   ]
  },
  {
   "cell_type": "code",
   "execution_count": 16,
   "metadata": {},
   "outputs": [
    {
     "data": {
      "image/png": "[encoded data removed]",
      "text/plain": [
       "<Figure size 576x432 with 1 Axes>"
      ]
     },
     "metadata": {
      "needs_background": "light"
     },
     "output_type": "display_data"
    }
   ],
   "source": [
    "fig = plt.figure(figsize=(8, 6))\n",
    "plt.boxplot(results)\n",
    "plt.title('Algorithm Comparison')\n",
    "plt.xticks([1, 2, 3], names)\n",
    "plt.ylabel('F1 Score')\n",
    "plt.xlabel('Algorithms')\n",
    "plt.show()"
   ]
  },
  {
   "cell_type": "markdown",
   "metadata": {},
   "source": [
    "Based on the results of algorithms, Random Forest classifier will be chosen as it reaches the highest F1 score and appears to be the most stable."
   ]
  },
  {
   "cell_type": "markdown",
   "metadata": {},
   "source": [
    "## Evaluation of chosen classifier"
   ]
  },
  {
   "cell_type": "code",
   "execution_count": 17,
   "metadata": {},
   "outputs": [],
   "source": [
    "df_test = pd.read_pickle('./data/processed/songs_test.pkl')\n",
    "X_test, y_test = df_test.drop(['if_liked'], axis=1), df_test['if_liked']"
   ]
  },
  {
   "cell_type": "code",
   "execution_count": 18,
   "metadata": {},
   "outputs": [
    {
     "name": "stdout",
     "output_type": "stream",
     "text": [
      "Accuracy score on test set: 71.8 %\n",
      "F1 score on test set: 79.1 %\n"
     ]
    }
   ],
   "source": [
    "rf_tuned.fit(X_train, y_train)\n",
    "y_pred = rf_tuned.predict(X_test)\n",
    "\n",
    "accuracy = round(accuracy_score(y_pred, y_test) * 100, 1)\n",
    "f1 = round(f1_score(y_pred, y_test) * 100, 1)\n",
    "\n",
    "print(f'Accuracy score on test set: {accuracy} %')\n",
    "print(f'F1 score on test set: {f1} %')"
   ]
  }
 ],
 "metadata": {
  "kernelspec": {
   "display_name": "Python 3",
   "language": "python",
   "name": "python3"
  },
  "language_info": {
   "codemirror_mode": {
    "name": "ipython",
    "version": 3
   },
   "file_extension": ".py",
   "mimetype": "text/x-python",
   "name": "python",
   "nbconvert_exporter": "python",
   "pygments_lexer": "ipython3",
   "version": "3.8.5"
  }
 },
 "nbformat": 4,
 "nbformat_minor": 4
}
